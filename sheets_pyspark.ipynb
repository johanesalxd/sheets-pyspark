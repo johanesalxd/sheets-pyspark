{
 "cells": [
  {
   "cell_type": "code",
   "execution_count": null,
   "metadata": {},
   "outputs": [],
   "source": [
    "from google.cloud.dataproc_spark_connect import DataprocSparkSession\n",
    "from google.cloud.dataproc_v1 import Session, SparkConnectConfig\n",
    "session_config = Session()\n",
    "session_config.spark_connect_session = SparkConnectConfig()\n",
    "session_config.session_template = 'projects/your-project-id/locations/us-central1/sessionTemplates/runtime-00000b96da90'\n",
    "\n",
    "spark = DataprocSparkSession.builder.projectId(\"your-project-id\").location(\n",
    "    \"us-central1\").dataprocSessionConfig(session_config).getOrCreate()"
   ]
  },
  {
   "cell_type": "code",
   "execution_count": null,
   "metadata": {},
   "outputs": [],
   "source": [
    "# Prepare The Environment\n",
    "import gspread\n",
    "import json\n",
    "import pandas as pd\n",
    "from datetime import datetime\n",
    "from oauth2client.service_account import ServiceAccountCredentials\n",
    "from pyspark.sql.functions import col"
   ]
  },
  {
   "cell_type": "code",
   "execution_count": null,
   "metadata": {},
   "outputs": [],
   "source": [
    "from IPython.core.magic import register_cell_magic\n",
    "from IPython import get_ipython\n",
    "\n",
    "\n",
    "@register_cell_magic\n",
    "def skip(line, cell):\n",
    "    return\n",
    "\n",
    "\n",
    "@register_cell_magic\n",
    "def skip_if(line, cell):\n",
    "    if eval(line):\n",
    "        return\n",
    "    get_ipython().ex(cell)"
   ]
  },
  {
   "cell_type": "code",
   "execution_count": null,
   "metadata": {},
   "outputs": [],
   "source": [
    "# Authenticate and create the client\n",
    "scope = [\"https://spreadsheets.google.com/feeds\",\n",
    "         \"https://www.googleapis.com/auth/drive\"]\n",
    "credentials = ServiceAccountCredentials.from_json_keyfile_name(\n",
    "    'drive-api.json', scope)\n",
    "googleClient = gspread.authorize(credentials)"
   ]
  },
  {
   "cell_type": "code",
   "execution_count": null,
   "metadata": {},
   "outputs": [],
   "source": [
    "# Prepare The Data\n",
    "# Open the Google Sheet by ID\n",
    "sheet_id = \"1kQENu6sumzEQX60fjQtgmXvwPGlUfaNRgW7v_TWFUXo\"\n",
    "sheet = googleClient.open_by_key(sheet_id)\n",
    "\n",
    "# Select the first worksheet\n",
    "worksheet = sheet.get_worksheet(0)\n",
    "\n",
    "# Get all records from the worksheet\n",
    "legacy_charges = worksheet.get_all_records(numericise_ignore=['all'])\n",
    "\n",
    "# Set null to empty mid_label on legacy_charges\n",
    "for record in legacy_charges:\n",
    "    record['mid_label'] = None if record['mid_label'] == '' else record['mid_label']\n",
    "    record['installment_count'] = None if record['installment_count'] == '' else int(\n",
    "        record['installment_count'])\n",
    "\n",
    "# Convert the records to a Spark DataFrame\n",
    "legacy_charges_df = spark.createDataFrame(legacy_charges).withColumn(\n",
    "    \"installment_count\", col(\"installment_count\").cast(\"int\"))\n",
    "legacy_charges_df.createOrReplaceTempView(\"legacy_charges\")"
   ]
  },
  {
   "cell_type": "code",
   "execution_count": null,
   "metadata": {},
   "outputs": [],
   "source": [
    "# Open the Google Sheet by ID\n",
    "sheet_id = \"1_8sm8QciAU3T8oDlNS1Pfj-GQlmlJBrAi1TYdnnMlkw\"\n",
    "sheet = googleClient.open_by_key(sheet_id)\n",
    "\n",
    "# Select the first worksheet\n",
    "worksheet = sheet.get_worksheet(0)\n",
    "\n",
    "# Get all records from the worksheet\n",
    "merchant_send_mid_label = worksheet.get_all_records()\n",
    "\n",
    "# Convert the records to a Spark DataFrame\n",
    "merchant_send_mid_label_df = spark.createDataFrame(merchant_send_mid_label)\n",
    "merchant_send_mid_label_df.createOrReplaceTempView(\"merchant_send_mid_label\")"
   ]
  },
  {
   "cell_type": "code",
   "execution_count": null,
   "metadata": {},
   "outputs": [],
   "source": [
    "# Open the Google Sheet by ID\n",
    "sheet_id = \"1orVBlPP77HTt9d8x-lC1Oo5xrPp0r1FgVUQ-43DYqYc\"\n",
    "sheet = googleClient.open_by_key(sheet_id)\n",
    "\n",
    "# Select the first worksheet\n",
    "worksheet = sheet.get_worksheet(0)\n",
    "\n",
    "# Get all records from the worksheet\n",
    "merchant_excluded = worksheet.get_all_records()\n",
    "\n",
    "# Convert the records to a Spark DataFrame\n",
    "merchant_excluded_df = spark.createDataFrame(merchant_excluded)\n",
    "merchant_excluded_df.createOrReplaceTempView(\"merchant_excluded\")"
   ]
  },
  {
   "cell_type": "code",
   "execution_count": null,
   "metadata": {
    "kernelspec": {
     "display_name": "PySpark",
     "language": "python",
     "name": "pyspark"
    },
    "language_info": {
     "codemirror_mode": "sql",
     "file_extension": ".sql",
     "mimetype": "text/x-sql",
     "name": "sql"
    }
   },
   "outputs": [],
   "source": [
    "spark.sql(\"\"\"SELECT * FROM legacy_charges\"\"\").show()"
   ]
  },
  {
   "cell_type": "code",
   "execution_count": null,
   "metadata": {},
   "outputs": [],
   "source": [
    "# Monitoring Script\n",
    "# Fetch charges data from Databricks\n",
    "\n",
    "join_df = spark.sql(\"\"\"\n",
    "SELECT\n",
    "    lc.*\n",
    "FROM\n",
    "    legacy_charges lc\n",
    "LEFT ANTI JOIN\n",
    "    merchant_send_mid_label msml ON lc.business_id = msml.business_id\n",
    "LEFT ANTI JOIN\n",
    "    merchant_excluded me ON lc.business_id = me.business_id\n",
    "\"\"\")"
   ]
  },
  {
   "cell_type": "code",
   "execution_count": null,
   "metadata": {},
   "outputs": [],
   "source": [
    "join_df.show()"
   ]
  }
 ],
 "metadata": {
  "kernelspec": {
   "display_name": ".venv",
   "language": "python",
   "name": "python3"
  },
  "language_info": {
   "codemirror_mode": {
    "name": "ipython",
    "version": 3
   },
   "file_extension": ".py",
   "mimetype": "text/x-python",
   "name": "python",
   "nbconvert_exporter": "python",
   "pygments_lexer": "ipython3",
   "version": "3.11.9"
  }
 },
 "nbformat": 4,
 "nbformat_minor": 4
}
