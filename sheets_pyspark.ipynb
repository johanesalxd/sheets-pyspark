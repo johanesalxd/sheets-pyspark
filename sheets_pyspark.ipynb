{
 "cells": [
  {
   "cell_type": "code",
   "execution_count": null,
   "metadata": {},
   "outputs": [
    {
     "data": {
      "text/html": [
       "\n",
       "                <div>\n",
       "                    <p>Creating Dataproc Spark Session<p>\n",
       "                    <p><a href=\"https://console.cloud.google.com/dataproc/interactive/us-central1/sc-20250915-034245-p9bg4p?project=johanesa-playground-326616\">Dataproc Session</a></p>\n",
       "                </div>\n",
       "            "
      ],
      "text/plain": [
       "<IPython.core.display.HTML object>"
      ]
     },
     "metadata": {},
     "output_type": "display_data"
    },
    {
     "name": "stderr",
     "output_type": "stream",
     "text": [
      "█████████████████████████████████████████████████████████████▊                  "
     ]
    },
    {
     "name": "stdout",
     "output_type": "stream",
     "text": [
      "\n"
     ]
    },
    {
     "name": "stderr",
     "output_type": "stream",
     "text": [
      "\n"
     ]
    },
    {
     "data": {
      "text/html": [
       "<div><p>Dataproc Session was successfully created</p></div>"
      ],
      "text/plain": [
       "<IPython.core.display.HTML object>"
      ]
     },
     "metadata": {},
     "output_type": "display_data"
    }
   ],
   "source": [
    "from google.cloud.dataproc_spark_connect import DataprocSparkSession\n",
    "from google.cloud.dataproc_v1 import Session, SparkConnectConfig\n",
    "session_config = Session()\n",
    "session_config.spark_connect_session = SparkConnectConfig()\n",
    "session_config.session_template = 'projects/your-project-id/locations/us-central1/sessionTemplates/runtime-00000b96da90'\n",
    "\n",
    "spark = DataprocSparkSession.builder.projectId(\"your-project-id\").location(\n",
    "    \"us-central1\").dataprocSessionConfig(session_config).getOrCreate()"
   ]
  },
  {
   "cell_type": "code",
   "execution_count": 2,
   "metadata": {},
   "outputs": [],
   "source": [
    "# Prepare The Environment\n",
    "import gspread\n",
    "import json\n",
    "import pandas as pd\n",
    "from datetime import datetime\n",
    "from oauth2client.service_account import ServiceAccountCredentials\n",
    "from pyspark.sql.functions import col"
   ]
  },
  {
   "cell_type": "code",
   "execution_count": 13,
   "metadata": {},
   "outputs": [],
   "source": [
    "from IPython.core.magic import register_cell_magic\n",
    "from IPython import get_ipython\n",
    "\n",
    "\n",
    "@register_cell_magic\n",
    "def skip(line, cell):\n",
    "    return\n",
    "\n",
    "\n",
    "@register_cell_magic\n",
    "def skip_if(line, cell):\n",
    "    if eval(line):\n",
    "        return\n",
    "    get_ipython().ex(cell)"
   ]
  },
  {
   "cell_type": "code",
   "execution_count": 4,
   "metadata": {},
   "outputs": [],
   "source": [
    "# Authenticate and create the client\n",
    "scope = [\"https://spreadsheets.google.com/feeds\",\n",
    "         \"https://www.googleapis.com/auth/drive\"]\n",
    "credentials = ServiceAccountCredentials.from_json_keyfile_name(\n",
    "    'drive-api.json', scope)\n",
    "googleClient = gspread.authorize(credentials)"
   ]
  },
  {
   "cell_type": "code",
   "execution_count": 5,
   "metadata": {},
   "outputs": [
    {
     "data": {
      "text/html": [
       "\n",
       "              <div>\n",
       "                  <p><a href=\"https://console.cloud.google.com/dataproc/interactive/us-central1/sc-20250915-034245-p9bg4p/sparkApplications/application;associatedSqlOperationId=4e5c639a-edc1-4f8e-a18c-c4d8b0bd6b4f?project=johanesa-playground-326616\">Spark Query</a> (Operation: 4e5c639a-edc1-4f8e-a18c-c4d8b0bd6b4f)</p>\n",
       "              </div>\n",
       "              "
      ],
      "text/plain": [
       "<IPython.core.display.HTML object>"
      ]
     },
     "metadata": {},
     "output_type": "display_data"
    }
   ],
   "source": [
    "# Prepare The Data\n",
    "# Open the Google Sheet by ID\n",
    "sheet_id = \"1kQENu6sumzEQX60fjQtgmXvwPGlUfaNRgW7v_TWFUXo\"\n",
    "sheet = googleClient.open_by_key(sheet_id)\n",
    "\n",
    "# Select the first worksheet\n",
    "worksheet = sheet.get_worksheet(0)\n",
    "\n",
    "# Get all records from the worksheet\n",
    "legacy_charges = worksheet.get_all_records(numericise_ignore=['all'])\n",
    "\n",
    "# Set null to empty mid_label on legacy_charges\n",
    "for record in legacy_charges:\n",
    "    record['mid_label'] = None if record['mid_label'] == '' else record['mid_label']\n",
    "    record['installment_count'] = None if record['installment_count'] == '' else int(\n",
    "        record['installment_count'])\n",
    "\n",
    "# Convert the records to a Spark DataFrame\n",
    "legacy_charges_df = spark.createDataFrame(legacy_charges).withColumn(\n",
    "    \"installment_count\", col(\"installment_count\").cast(\"int\"))\n",
    "legacy_charges_df.createOrReplaceTempView(\"legacy_charges\")"
   ]
  },
  {
   "cell_type": "code",
   "execution_count": 6,
   "metadata": {},
   "outputs": [
    {
     "data": {
      "text/html": [
       "\n",
       "              <div>\n",
       "                  <p><a href=\"https://console.cloud.google.com/dataproc/interactive/us-central1/sc-20250915-034245-p9bg4p/sparkApplications/application;associatedSqlOperationId=27677a46-ac1b-4f1d-9d7b-2d407a3906bf?project=johanesa-playground-326616\">Spark Query</a> (Operation: 27677a46-ac1b-4f1d-9d7b-2d407a3906bf)</p>\n",
       "              </div>\n",
       "              "
      ],
      "text/plain": [
       "<IPython.core.display.HTML object>"
      ]
     },
     "metadata": {},
     "output_type": "display_data"
    }
   ],
   "source": [
    "# Open the Google Sheet by ID\n",
    "sheet_id = \"1_8sm8QciAU3T8oDlNS1Pfj-GQlmlJBrAi1TYdnnMlkw\"\n",
    "sheet = googleClient.open_by_key(sheet_id)\n",
    "\n",
    "# Select the first worksheet\n",
    "worksheet = sheet.get_worksheet(0)\n",
    "\n",
    "# Get all records from the worksheet\n",
    "merchant_send_mid_label = worksheet.get_all_records()\n",
    "\n",
    "# Convert the records to a Spark DataFrame\n",
    "merchant_send_mid_label_df = spark.createDataFrame(merchant_send_mid_label)\n",
    "merchant_send_mid_label_df.createOrReplaceTempView(\"merchant_send_mid_label\")"
   ]
  },
  {
   "cell_type": "code",
   "execution_count": 7,
   "metadata": {},
   "outputs": [
    {
     "data": {
      "text/html": [
       "\n",
       "              <div>\n",
       "                  <p><a href=\"https://console.cloud.google.com/dataproc/interactive/us-central1/sc-20250915-034245-p9bg4p/sparkApplications/application;associatedSqlOperationId=f539b1d8-d074-4039-af21-f01254a17a0d?project=johanesa-playground-326616\">Spark Query</a> (Operation: f539b1d8-d074-4039-af21-f01254a17a0d)</p>\n",
       "              </div>\n",
       "              "
      ],
      "text/plain": [
       "<IPython.core.display.HTML object>"
      ]
     },
     "metadata": {},
     "output_type": "display_data"
    }
   ],
   "source": [
    "# Open the Google Sheet by ID\n",
    "sheet_id = \"1orVBlPP77HTt9d8x-lC1Oo5xrPp0r1FgVUQ-43DYqYc\"\n",
    "sheet = googleClient.open_by_key(sheet_id)\n",
    "\n",
    "# Select the first worksheet\n",
    "worksheet = sheet.get_worksheet(0)\n",
    "\n",
    "# Get all records from the worksheet\n",
    "merchant_excluded = worksheet.get_all_records()\n",
    "\n",
    "# Convert the records to a Spark DataFrame\n",
    "merchant_excluded_df = spark.createDataFrame(merchant_excluded)\n",
    "merchant_excluded_df.createOrReplaceTempView(\"merchant_excluded\")"
   ]
  },
  {
   "cell_type": "code",
   "execution_count": 15,
   "metadata": {
    "kernelspec": {
     "display_name": "PySpark",
     "language": "python",
     "name": "pyspark"
    },
    "language_info": {
     "codemirror_mode": "sql",
     "file_extension": ".sql",
     "mimetype": "text/x-sql",
     "name": "sql"
    }
   },
   "outputs": [
    {
     "data": {
      "text/html": [
       "\n",
       "              <div>\n",
       "                  <p><a href=\"https://console.cloud.google.com/dataproc/interactive/us-central1/sc-20250915-034245-p9bg4p/sparkApplications/application;associatedSqlOperationId=df7d0997-056f-45de-b9cc-faad7f1fe129?project=johanesa-playground-326616\">Spark Query</a> (Operation: df7d0997-056f-45de-b9cc-faad7f1fe129)</p>\n",
       "              </div>\n",
       "              "
      ],
      "text/plain": [
       "<IPython.core.display.HTML object>"
      ]
     },
     "metadata": {},
     "output_type": "display_data"
    },
    {
     "name": "stdout",
     "output_type": "stream",
     "text": [
      "+-----------+----------+---------+-----------+--------+-----------------+-----------------+-----------+-------------+\n",
      "|business_id|card_brand|card_type|client_type|currency|installment_count|issuing_bank_name|merchant_id|    mid_label|\n",
      "+-----------+----------+---------+-----------+--------+-----------------+-----------------+-----------+-------------+\n",
      "|     bu-963|       JCB|    DEBIT|        WEB|     IDR|                3|          MANDIRI|  merch-def|    promo-mid|\n",
      "|     bu-651|      VISA|    DEBIT|        API|     IDR|                6|              BNI|  merch-ghi|    promo-mid|\n",
      "|     bu-972|       JCB|    DEBIT|        WEB|     IDR|             NULL|          MANDIRI|  merch-jkl|    promo-mid|\n",
      "|     bu-318|MASTERCARD|    DEBIT|        WEB|     IDR|                3|             CIMB|  merch-mno|    promo-mid|\n",
      "|     bu-456|      VISA|   CREDIT|        WEB|     IDR|                3|            OTHER|  merch-ghi|    promo-mid|\n",
      "|     bu-922|       JCB|   CREDIT|        WEB|     IDR|               12|            OTHER|  merch-def|    promo-mid|\n",
      "|     bu-104|       JCB|    DEBIT|        API|     IDR|                6|          MANDIRI|  merch-jkl|         NULL|\n",
      "|     bu-704|MASTERCARD|    DEBIT|        API|     IDR|               12|             CIMB|  merch-jkl|         NULL|\n",
      "|     bu-732|       JCB|    DEBIT|        API|     IDR|             NULL|              BNI|  merch-abc|    promo-mid|\n",
      "|     bu-975|       JCB|    DEBIT|        WEB|     IDR|                3|              BNI|  merch-def|special-offer|\n",
      "|     bu-623|       JCB|    DEBIT|        WEB|     IDR|                6|            OTHER|  merch-mno|    promo-mid|\n",
      "|     bu-641|MASTERCARD|    DEBIT|     MOBILE|     IDR|                3|              BRI|  merch-ghi|special-offer|\n",
      "|     bu-927|      VISA|   CREDIT|        WEB|     IDR|                3|            OTHER|  merch-abc|special-offer|\n",
      "|     bu-529|MASTERCARD|    DEBIT|        WEB|     IDR|             NULL|            OTHER|  merch-abc|         NULL|\n",
      "|     bu-329|      VISA|   CREDIT|     MOBILE|     IDR|               12|              BNI|  merch-def|         NULL|\n",
      "|     bu-564|MASTERCARD|    DEBIT|        WEB|     IDR|               12|              BCA|  merch-mno|         NULL|\n",
      "|     bu-290|      AMEX|   CREDIT|     MOBILE|     IDR|               12|          MANDIRI|  merch-abc|    promo-mid|\n",
      "|     bu-203|       JCB|   CREDIT|        API|     IDR|             NULL|              BRI|  merch-mno|special-offer|\n",
      "|     bu-129|       JCB|    DEBIT|        API|     IDR|                6|          MANDIRI|  merch-jkl|special-offer|\n",
      "|     bu-798|       JCB|   CREDIT|        API|     IDR|                6|              BNI|  merch-jkl|special-offer|\n",
      "+-----------+----------+---------+-----------+--------+-----------------+-----------------+-----------+-------------+\n",
      "only showing top 20 rows\n",
      "\n"
     ]
    }
   ],
   "source": [
    "spark.sql(\"\"\"SELECT * FROM legacy_charges\"\"\").show()"
   ]
  },
  {
   "cell_type": "code",
   "execution_count": null,
   "metadata": {},
   "outputs": [
    {
     "data": {
      "text/plain": [
       "DataFrame[business_id: string, card_brand: string, card_type: string, client_type: string, currency: string, installment_count: int, issuing_bank_name: string, merchant_id: string, mid_label: string]"
      ]
     },
     "metadata": {},
     "output_type": "display_data"
    }
   ],
   "source": [
    "# Monitoring Script\n",
    "# Fetch charges data from Databricks\n",
    "\n",
    "join_df = spark.sql(\"\"\"\n",
    "SELECT\n",
    "    lc.*\n",
    "FROM\n",
    "    legacy_charges lc\n",
    "LEFT ANTI JOIN\n",
    "    merchant_send_mid_label msml ON lc.business_id = msml.business_id\n",
    "LEFT ANTI JOIN\n",
    "    merchant_excluded me ON lc.business_id = me.business_id\n",
    "\"\"\")"
   ]
  },
  {
   "cell_type": "code",
   "execution_count": 19,
   "metadata": {},
   "outputs": [
    {
     "data": {
      "text/html": [
       "\n",
       "              <div>\n",
       "                  <p><a href=\"https://console.cloud.google.com/dataproc/interactive/us-central1/sc-20250915-034245-p9bg4p/sparkApplications/application;associatedSqlOperationId=c5c8aa51-41f7-400e-8831-34120ca08095?project=johanesa-playground-326616\">Spark Query</a> (Operation: c5c8aa51-41f7-400e-8831-34120ca08095)</p>\n",
       "              </div>\n",
       "              "
      ],
      "text/plain": [
       "<IPython.core.display.HTML object>"
      ]
     },
     "metadata": {},
     "output_type": "display_data"
    },
    {
     "name": "stdout",
     "output_type": "stream",
     "text": [
      "+-----------+----------+---------+-----------+--------+-----------------+-----------------+-----------+-------------+\n",
      "|business_id|card_brand|card_type|client_type|currency|installment_count|issuing_bank_name|merchant_id|    mid_label|\n",
      "+-----------+----------+---------+-----------+--------+-----------------+-----------------+-----------+-------------+\n",
      "|     bu-963|       JCB|    DEBIT|        WEB|     IDR|                3|          MANDIRI|  merch-def|    promo-mid|\n",
      "|     bu-651|      VISA|    DEBIT|        API|     IDR|                6|              BNI|  merch-ghi|    promo-mid|\n",
      "|     bu-972|       JCB|    DEBIT|        WEB|     IDR|             NULL|          MANDIRI|  merch-jkl|    promo-mid|\n",
      "|     bu-318|MASTERCARD|    DEBIT|        WEB|     IDR|                3|             CIMB|  merch-mno|    promo-mid|\n",
      "|     bu-456|      VISA|   CREDIT|        WEB|     IDR|                3|            OTHER|  merch-ghi|    promo-mid|\n",
      "|     bu-922|       JCB|   CREDIT|        WEB|     IDR|               12|            OTHER|  merch-def|    promo-mid|\n",
      "|     bu-104|       JCB|    DEBIT|        API|     IDR|                6|          MANDIRI|  merch-jkl|         NULL|\n",
      "|     bu-704|MASTERCARD|    DEBIT|        API|     IDR|               12|             CIMB|  merch-jkl|         NULL|\n",
      "|     bu-732|       JCB|    DEBIT|        API|     IDR|             NULL|              BNI|  merch-abc|    promo-mid|\n",
      "|     bu-975|       JCB|    DEBIT|        WEB|     IDR|                3|              BNI|  merch-def|special-offer|\n",
      "|     bu-623|       JCB|    DEBIT|        WEB|     IDR|                6|            OTHER|  merch-mno|    promo-mid|\n",
      "|     bu-641|MASTERCARD|    DEBIT|     MOBILE|     IDR|                3|              BRI|  merch-ghi|special-offer|\n",
      "|     bu-927|      VISA|   CREDIT|        WEB|     IDR|                3|            OTHER|  merch-abc|special-offer|\n",
      "|     bu-529|MASTERCARD|    DEBIT|        WEB|     IDR|             NULL|            OTHER|  merch-abc|         NULL|\n",
      "|     bu-329|      VISA|   CREDIT|     MOBILE|     IDR|               12|              BNI|  merch-def|         NULL|\n",
      "|     bu-564|MASTERCARD|    DEBIT|        WEB|     IDR|               12|              BCA|  merch-mno|         NULL|\n",
      "|     bu-290|      AMEX|   CREDIT|     MOBILE|     IDR|               12|          MANDIRI|  merch-abc|    promo-mid|\n",
      "|     bu-203|       JCB|   CREDIT|        API|     IDR|             NULL|              BRI|  merch-mno|special-offer|\n",
      "|     bu-129|       JCB|    DEBIT|        API|     IDR|                6|          MANDIRI|  merch-jkl|special-offer|\n",
      "|     bu-798|       JCB|   CREDIT|        API|     IDR|                6|              BNI|  merch-jkl|special-offer|\n",
      "+-----------+----------+---------+-----------+--------+-----------------+-----------------+-----------+-------------+\n",
      "only showing top 20 rows\n",
      "\n"
     ]
    }
   ],
   "source": [
    "join_df.show()"
   ]
  }
 ],
 "metadata": {
  "kernelspec": {
   "display_name": ".venv",
   "language": "python",
   "name": "python3"
  },
  "language_info": {
   "codemirror_mode": {
    "name": "ipython",
    "version": 3
   },
   "file_extension": ".py",
   "mimetype": "text/x-python",
   "name": "python",
   "nbconvert_exporter": "python",
   "pygments_lexer": "ipython3",
   "version": "3.11.9"
  }
 },
 "nbformat": 4,
 "nbformat_minor": 4
}
