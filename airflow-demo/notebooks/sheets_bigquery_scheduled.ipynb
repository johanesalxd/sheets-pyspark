{
 "cells": [
  {
   "cell_type": "markdown",
   "metadata": {},
   "source": [
    "# Sheets to BigQuery - Scheduled Version\n",
    "\n",
    "This notebook is designed for scheduled execution via Airflow/Vertex AI.\n",
    "It reads data from Google Sheets and writes to BigQuery temp tables."
   ]
  },
  {
   "cell_type": "code",
   "execution_count": null,
   "metadata": {},
   "outputs": [],
   "source": [
    "import os\n",
    "import logging\n",
    "\n",
    "# Set up logging for scheduled execution\n",
    "logging.basicConfig(level=logging.INFO)\n",
    "logger = logging.getLogger(__name__)"
   ]
  },
  {
   "cell_type": "code",
   "execution_count": null,
   "metadata": {},
   "outputs": [],
   "source": [
    "import bigframes.pandas as bpd\n",
    "\n",
    "# Set BigQuery project and location from environment variables\n",
    "# Falls back to defaults if not set\n",
    "bpd.options.bigquery.project = os.getenv(\"GCP_PROJECT\", \"your-project-id\")\n",
    "bpd.options.bigquery.location = os.getenv(\"GCP_REGION\", \"us-central1\")\n",
    "\n",
    "logger.info(f\"BigQuery project: {bpd.options.bigquery.project}\")\n",
    "logger.info(f\"BigQuery location: {bpd.options.bigquery.location}\")"
   ]
  },
  {
   "cell_type": "code",
   "execution_count": null,
   "metadata": {},
   "outputs": [],
   "source": [
    "# Prepare The Environment\n",
    "import gspread\n",
    "from oauth2client.service_account import ServiceAccountCredentials\n",
    "from IPython.core.magic import register_cell_magic\n",
    "from IPython import get_ipython\n",
    "\n",
    "\n",
    "@register_cell_magic\n",
    "def skip(line, cell):\n",
    "    return\n",
    "\n",
    "\n",
    "@register_cell_magic\n",
    "def skip_if(line, cell):\n",
    "    if eval(line):\n",
    "        return\n",
    "    get_ipython().ex(cell)"
   ]
  },
  {
   "cell_type": "code",
   "execution_count": null,
   "metadata": {},
   "outputs": [],
   "source": [
    "# Authenticate and create the client\n",
    "scope = [\"https://spreadsheets.google.com/feeds\",\n",
    "         \"https://www.googleapis.com/auth/drive\"]\n",
    "\n",
    "# Support both local and scheduled execution\n",
    "credentials_path = os.getenv(\n",
    "    \"GOOGLE_APPLICATION_CREDENTIALS\", \"drive-api.json\")\n",
    "credentials = ServiceAccountCredentials.from_json_keyfile_name(\n",
    "    credentials_path, scope)\n",
    "googleClient = gspread.authorize(credentials)\n",
    "\n",
    "logger.info(\"Successfully authenticated with Google Sheets API\")"
   ]
  },
  {
   "cell_type": "code",
   "execution_count": null,
   "metadata": {},
   "outputs": [],
   "source": [
    "# Prepare The Data\n",
    "# Sheet IDs can be parameterized via environment variables\n",
    "LEGACY_CHARGES_SHEET_ID = os.getenv(\n",
    "    \"LEGACY_CHARGES_SHEET_ID\",\n",
    "    \"1kQENu6sumzEQX60fjQtgmXvwPGlUfaNRgW7v_TWFUXo\"\n",
    ")\n",
    "\n",
    "# Open the Google Sheet by ID\n",
    "sheet = googleClient.open_by_key(LEGACY_CHARGES_SHEET_ID)\n",
    "\n",
    "# Select the first worksheet\n",
    "worksheet = sheet.get_worksheet(0)\n",
    "\n",
    "# Get all records from the worksheet\n",
    "legacy_charges = worksheet.get_all_records(numericise_ignore=['all'])\n",
    "\n",
    "# Set null to empty mid_label on legacy_charges\n",
    "for record in legacy_charges:\n",
    "    record['mid_label'] = None if record['mid_label'] == '' else record['mid_label']\n",
    "    record['installment_count'] = None if record['installment_count'] == '' else int(\n",
    "        record['installment_count'])\n",
    "\n",
    "# Convert the records to a BigQuery DataFrame\n",
    "legacy_charges_df = bpd.DataFrame(legacy_charges)\n",
    "legacy_charges_df['installment_count'] = legacy_charges_df['installment_count'].astype(\n",
    "    'Int64')\n",
    "\n",
    "logger.info(\n",
    "    f\"Successfully loaded {len(legacy_charges)} records from legacy_charges sheet\")"
   ]
  },
  {
   "cell_type": "code",
   "execution_count": null,
   "metadata": {},
   "outputs": [],
   "source": [
    "MERCHANT_SEND_MID_LABEL_SHEET_ID = os.getenv(\n",
    "    \"MERCHANT_SEND_MID_LABEL_SHEET_ID\",\n",
    "    \"1_8sm8QciAU3T8oDlNS1Pfj-GQlmlJBrAi1TYdnnMlkw\"\n",
    ")\n",
    "\n",
    "# Open the Google Sheet by ID\n",
    "sheet = googleClient.open_by_key(MERCHANT_SEND_MID_LABEL_SHEET_ID)\n",
    "\n",
    "# Select the first worksheet\n",
    "worksheet = sheet.get_worksheet(0)\n",
    "\n",
    "# Get all records from the worksheet\n",
    "merchant_send_mid_label = worksheet.get_all_records()\n",
    "\n",
    "# Convert the records to a BigQuery DataFrame\n",
    "merchant_send_mid_label_df = bpd.DataFrame(merchant_send_mid_label)\n",
    "\n",
    "logger.info(\n",
    "    f\"Successfully loaded {len(merchant_send_mid_label)} records from merchant_send_mid_label sheet\")"
   ]
  },
  {
   "cell_type": "code",
   "execution_count": null,
   "metadata": {},
   "outputs": [],
   "source": [
    "MERCHANT_EXCLUDED_SHEET_ID = os.getenv(\n",
    "    \"MERCHANT_EXCLUDED_SHEET_ID\",\n",
    "    \"1orVBlPP77HTt9d8x-lC1Oo5xrPp0r1FgVUQ-43DYqYc\"\n",
    ")\n",
    "\n",
    "# Open the Google Sheet by ID\n",
    "sheet = googleClient.open_by_key(MERCHANT_EXCLUDED_SHEET_ID)\n",
    "\n",
    "# Select the first worksheet\n",
    "worksheet = sheet.get_worksheet(0)\n",
    "\n",
    "# Get all records from the worksheet\n",
    "merchant_excluded = worksheet.get_all_records()\n",
    "\n",
    "# Convert the records to a BigQuery DataFrame\n",
    "merchant_excluded_df = bpd.DataFrame(merchant_excluded)\n",
    "\n",
    "logger.info(\n",
    "    f\"Successfully loaded {len(merchant_excluded)} records from merchant_excluded sheet\")"
   ]
  },
  {
   "cell_type": "code",
   "execution_count": null,
   "metadata": {},
   "outputs": [],
   "source": [
    "legacy_charges_df.head()"
   ]
  },
  {
   "cell_type": "code",
   "execution_count": null,
   "metadata": {},
   "outputs": [],
   "source": [
    "# Monitoring Script\n",
    "legacy_charges_df.to_gbq('temp.legacy_charges', if_exists='replace')\n",
    "merchant_send_mid_label_df.to_gbq(\n",
    "    'temp.merchant_send_mid_label', if_exists='replace')\n",
    "merchant_excluded_df.to_gbq('temp.merchant_excluded', if_exists='replace')\n",
    "\n",
    "logger.info(\"Successfully wrote all dataframes to BigQuery temp tables\")"
   ]
  },
  {
   "cell_type": "code",
   "execution_count": null,
   "metadata": {},
   "outputs": [],
   "source": [
    "# Create final results table using bpd\n",
    "RESULTS_TABLE = os.getenv(\"RESULTS_TABLE\", \"temp.filtered_legacy_charges\")\n",
    "\n",
    "create_table_sql = f\"\"\"\n",
    "CREATE OR REPLACE TABLE `{RESULTS_TABLE}` AS\n",
    "SELECT\n",
    "    lc.*,\n",
    "    CURRENT_TIMESTAMP() as processed_at\n",
    "FROM\n",
    "    `temp.legacy_charges` lc\n",
    "LEFT JOIN\n",
    "    `temp.merchant_send_mid_label` msml ON lc.business_id = msml.business_id\n",
    "LEFT JOIN\n",
    "    `temp.merchant_excluded` me ON lc.business_id = me.business_id\n",
    "WHERE\n",
    "    msml.business_id IS NULL AND me.business_id IS NULL\n",
    "\"\"\"\n",
    "\n",
    "# Execute using bpd\n",
    "bpd.read_gbq_query(create_table_sql)"
   ]
  },
  {
   "cell_type": "code",
   "execution_count": null,
   "metadata": {},
   "outputs": [],
   "source": [
    "# Get row count\n",
    "count_df = bpd.read_gbq(f\"SELECT COUNT(*) as cnt FROM `{RESULTS_TABLE}`\")\n",
    "count = count_df['cnt'].iloc[0]\n",
    "\n",
    "logger.info(f\"Successfully created table {RESULTS_TABLE} with {count} records\")\n",
    "logger.info(\n",
    "    f\"View results: https://console.cloud.google.com/bigquery?project={bpd.options.bigquery.project}&p={bpd.options.bigquery.project}&d=temp&t=filtered_legacy_charges&page=table\")\n",
    "logger.info(\"Notebook execution completed successfully\")"
   ]
  }
 ],
 "metadata": {
  "kernelspec": {
   "display_name": "Python 3",
   "language": "python",
   "name": "python3"
  },
  "language_info": {
   "codemirror_mode": {
    "name": "ipython",
    "version": 3
   },
   "file_extension": ".py",
   "mimetype": "text/x-python",
   "name": "python",
   "nbconvert_exporter": "python",
   "pygments_lexer": "ipython3",
   "version": "3.11.0"
  }
 },
 "nbformat": 4,
 "nbformat_minor": 4
}
