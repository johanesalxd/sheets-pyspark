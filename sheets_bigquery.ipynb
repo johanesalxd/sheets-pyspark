{
 "cells": [
  {
   "cell_type": "code",
   "execution_count": null,
   "metadata": {},
   "outputs": [],
   "source": [
    "import bigframes.pandas as bpd"
   ]
  },
  {
   "cell_type": "code",
   "execution_count": null,
   "metadata": {},
   "outputs": [],
   "source": [
    "# Set BigQuery project and location\n",
    "bpd.options.bigquery.project = \"your-project-id\"\n",
    "bpd.options.bigquery.location = \"us-central1\""
   ]
  },
  {
   "cell_type": "markdown",
   "metadata": {},
   "source": [
    "# Prepare The Environment"
   ]
  },
  {
   "cell_type": "code",
   "execution_count": null,
   "metadata": {},
   "outputs": [],
   "source": [
    "import gspread\n",
    "from oauth2client.service_account import ServiceAccountCredentials"
   ]
  },
  {
   "cell_type": "code",
   "execution_count": null,
   "metadata": {},
   "outputs": [],
   "source": [
    "from IPython.core.magic import register_cell_magic\n",
    "from IPython import get_ipython\n",
    "\n",
    "\n",
    "@register_cell_magic\n",
    "def skip(line, cell):\n",
    "    return\n",
    "\n",
    "\n",
    "@register_cell_magic\n",
    "def skip_if(line, cell):\n",
    "    if eval(line):\n",
    "        return\n",
    "    get_ipython().ex(cell)"
   ]
  },
  {
   "cell_type": "markdown",
   "metadata": {},
   "source": [
    "# Authenticate and create the client"
   ]
  },
  {
   "cell_type": "code",
   "execution_count": null,
   "metadata": {},
   "outputs": [],
   "source": [
    "# Authenticate and create the client\n",
    "scope = [\"https://spreadsheets.google.com/feeds\",\n",
    "         \"https://www.googleapis.com/auth/drive\"]\n",
    "credentials = ServiceAccountCredentials.from_json_keyfile_name(\n",
    "    'drive-api.json', scope)\n",
    "googleClient = gspread.authorize(credentials)"
   ]
  },
  {
   "cell_type": "markdown",
   "metadata": {},
   "source": [
    "# Prepare The Data"
   ]
  },
  {
   "cell_type": "code",
   "execution_count": null,
   "metadata": {},
   "outputs": [],
   "source": [
    "# Prepare The Data\n",
    "# Open the Google Sheet by ID\n",
    "sheet_id = \"1kQENu6sumzEQX60fjQtgmXvwPGlUfaNRgW7v_TWFUXo\"\n",
    "sheet = googleClient.open_by_key(sheet_id)\n",
    "\n",
    "# Select the first worksheet\n",
    "worksheet = sheet.get_worksheet(0)\n",
    "\n",
    "# Get all records from the worksheet\n",
    "legacy_charges = worksheet.get_all_records(numericise_ignore=['all'])\n",
    "\n",
    "# Set null to empty mid_label on legacy_charges\n",
    "for record in legacy_charges:\n",
    "    record['mid_label'] = None if record['mid_label'] == '' else record['mid_label']\n",
    "    record['installment_count'] = None if record['installment_count'] == '' else int(\n",
    "        record['installment_count'])\n",
    "\n",
    "# Convert the records to a BigQuery DataFrame\n",
    "legacy_charges_df = bpd.DataFrame(legacy_charges)\n",
    "legacy_charges_df['installment_count'] = legacy_charges_df['installment_count'].astype(\n",
    "    'Int64')"
   ]
  },
  {
   "cell_type": "code",
   "execution_count": null,
   "metadata": {},
   "outputs": [],
   "source": [
    "# Open the Google Sheet by ID\n",
    "sheet_id = \"1_8sm8QciAU3T8oDlNS1Pfj-GQlmlJBrAi1TYdnnMlkw\"\n",
    "sheet = googleClient.open_by_key(sheet_id)\n",
    "\n",
    "# Select the first worksheet\n",
    "worksheet = sheet.get_worksheet(0)\n",
    "\n",
    "# Get all records from the worksheet\n",
    "merchant_send_mid_label = worksheet.get_all_records()\n",
    "\n",
    "# Convert the records to a BigQuery DataFrame\n",
    "merchant_send_mid_label_df = bpd.DataFrame(merchant_send_mid_label)"
   ]
  },
  {
   "cell_type": "code",
   "execution_count": null,
   "metadata": {},
   "outputs": [],
   "source": [
    "# Open the Google Sheet by ID\n",
    "sheet_id = \"1orVBlPP77HTt9d8x-lC1Oo5xrPp0r1FgVUQ-43DYqYc\"\n",
    "sheet = googleClient.open_by_key(sheet_id)\n",
    "\n",
    "# Select the first worksheet\n",
    "worksheet = sheet.get_worksheet(0)\n",
    "\n",
    "# Get all records from the worksheet\n",
    "merchant_excluded = worksheet.get_all_records()\n",
    "\n",
    "# Convert the records to a BigQuery DataFrame\n",
    "merchant_excluded_df = bpd.DataFrame(merchant_excluded)"
   ]
  },
  {
   "cell_type": "code",
   "execution_count": null,
   "metadata": {},
   "outputs": [],
   "source": [
    "legacy_charges_df.head()"
   ]
  },
  {
   "cell_type": "markdown",
   "metadata": {},
   "source": [
    "# Monitoring Script"
   ]
  },
  {
   "cell_type": "code",
   "execution_count": null,
   "metadata": {},
   "outputs": [],
   "source": [
    "legacy_charges_df.to_gbq('temp.legacy_charges', if_exists='replace')\n",
    "merchant_send_mid_label_df.to_gbq(\n",
    "    'temp.merchant_send_mid_label', if_exists='replace')\n",
    "merchant_excluded_df.to_gbq('temp.merchant_excluded', if_exists='replace')"
   ]
  },
  {
   "cell_type": "code",
   "execution_count": null,
   "metadata": {},
   "outputs": [],
   "source": [
    "sql = \"\"\"\n",
    "SELECT\n",
    "    lc.*\n",
    "FROM\n",
    "    `temp.legacy_charges` lc\n",
    "LEFT JOIN\n",
    "    `temp.merchant_send_mid_label` msml ON lc.business_id = msml.business_id\n",
    "LEFT JOIN\n",
    "    `temp.merchant_excluded` me ON lc.business_id = me.business_id\n",
    "WHERE\n",
    "    msml.business_id IS NULL AND me.business_id IS NULL\n",
    "\"\"\"\n",
    "sql_join_df = bpd.read_gbq(sql)"
   ]
  },
  {
   "cell_type": "code",
   "execution_count": null,
   "metadata": {},
   "outputs": [],
   "source": [
    "sql_join_df.head()"
   ]
  }
 ],
 "metadata": {
  "kernelspec": {
   "display_name": ".venv",
   "language": "python",
   "name": "python3"
  },
  "language_info": {
   "codemirror_mode": {
    "name": "ipython",
    "version": 3
   },
   "file_extension": ".py",
   "mimetype": "text/x-python",
   "name": "python",
   "nbconvert_exporter": "python",
   "pygments_lexer": "ipython3",
   "version": "3.11.13"
  }
 },
 "nbformat": 4,
 "nbformat_minor": 4
}
