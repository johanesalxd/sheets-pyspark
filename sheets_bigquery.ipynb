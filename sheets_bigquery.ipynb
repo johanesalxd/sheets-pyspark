{
 "cells": [
  {
   "cell_type": "code",
   "execution_count": 1,
   "metadata": {},
   "outputs": [],
   "source": [
    "import bigframes.pandas as bpd"
   ]
  },
  {
   "cell_type": "code",
   "execution_count": null,
   "metadata": {},
   "outputs": [],
   "source": [
    "# Set BigQuery project and location\n",
    "bpd.options.bigquery.project = \"your-project-id\"\n",
    "bpd.options.bigquery.location = \"us-central1\""
   ]
  },
  {
   "cell_type": "markdown",
   "metadata": {},
   "source": [
    "# Prepare The Environment"
   ]
  },
  {
   "cell_type": "code",
   "execution_count": null,
   "metadata": {},
   "outputs": [],
   "source": [
    "import gspread\n",
    "import json\n",
    "import pandas as pd\n",
    "from datetime import datetime\n",
    "from oauth2client.service_account import ServiceAccountCredentials"
   ]
  },
  {
   "cell_type": "code",
   "execution_count": null,
   "metadata": {},
   "outputs": [],
   "source": [
    "from IPython.core.magic import register_cell_magic\n",
    "from IPython import get_ipython\n",
    "\n",
    "\n",
    "@register_cell_magic\n",
    "def skip(line, cell):\n",
    "    return\n",
    "\n",
    "\n",
    "@register_cell_magic\n",
    "def skip_if(line, cell):\n",
    "    if eval(line):\n",
    "        return\n",
    "    get_ipython().ex(cell)"
   ]
  },
  {
   "cell_type": "markdown",
   "metadata": {},
   "source": [
    "# Authenticate and create the client"
   ]
  },
  {
   "cell_type": "code",
   "execution_count": null,
   "metadata": {},
   "outputs": [],
   "source": [
    "# Authenticate and create the client\n",
    "scope = [\"https://spreadsheets.google.com/feeds\",\n",
    "         \"https://www.googleapis.com/auth/drive\"]\n",
    "credentials = ServiceAccountCredentials.from_json_keyfile_name(\n",
    "    'drive-api.json', scope)\n",
    "googleClient = gspread.authorize(credentials)"
   ]
  },
  {
   "cell_type": "markdown",
   "metadata": {},
   "source": [
    "# Prepare The Data"
   ]
  },
  {
   "cell_type": "code",
   "execution_count": null,
   "metadata": {},
   "outputs": [
    {
     "data": {
      "text/html": [
       "Load job ad901226-ba8c-4bf7-9120-2009703b63a2 is DONE. <a target=\"_blank\" href=\"https://console.cloud.google.com/bigquery?project=johanesa-playground-326616&j=bq:us-central1:ad901226-ba8c-4bf7-9120-2009703b63a2&page=queryresults\">Open Job</a>"
      ],
      "text/plain": [
       "<IPython.core.display.HTML object>"
      ]
     },
     "metadata": {},
     "output_type": "display_data"
    }
   ],
   "source": [
    "# Prepare The Data\n",
    "# Open the Google Sheet by ID\n",
    "sheet_id = \"1kQENu6sumzEQX60fjQtgmXvwPGlUfaNRgW7v_TWFUXo\"\n",
    "sheet = googleClient.open_by_key(sheet_id)\n",
    "\n",
    "# Select the first worksheet\n",
    "worksheet = sheet.get_worksheet(0)\n",
    "\n",
    "# Get all records from the worksheet\n",
    "legacy_charges = worksheet.get_all_records(numericise_ignore=['all'])\n",
    "\n",
    "# Set null to empty mid_label on legacy_charges\n",
    "for record in legacy_charges:\n",
    "    record['mid_label'] = None if record['mid_label'] == '' else record['mid_label']\n",
    "    record['installment_count'] = None if record['installment_count'] == '' else int(\n",
    "        record['installment_count'])\n",
    "\n",
    "# Convert the records to a BigQuery DataFrame\n",
    "legacy_charges_df = bpd.DataFrame(legacy_charges)\n",
    "legacy_charges_df['installment_count'] = legacy_charges_df['installment_count'].astype(\n",
    "    'Int64')"
   ]
  },
  {
   "cell_type": "code",
   "execution_count": 7,
   "metadata": {},
   "outputs": [],
   "source": [
    "# Open the Google Sheet by ID\n",
    "sheet_id = \"1_8sm8QciAU3T8oDlNS1Pfj-GQlmlJBrAi1TYdnnMlkw\"\n",
    "sheet = googleClient.open_by_key(sheet_id)\n",
    "\n",
    "# Select the first worksheet\n",
    "worksheet = sheet.get_worksheet(0)\n",
    "\n",
    "# Get all records from the worksheet\n",
    "merchant_send_mid_label = worksheet.get_all_records()\n",
    "\n",
    "# Convert the records to a BigQuery DataFrame\n",
    "merchant_send_mid_label_df = bpd.DataFrame(merchant_send_mid_label)"
   ]
  },
  {
   "cell_type": "code",
   "execution_count": 8,
   "metadata": {},
   "outputs": [],
   "source": [
    "# Open the Google Sheet by ID\n",
    "sheet_id = \"1orVBlPP77HTt9d8x-lC1Oo5xrPp0r1FgVUQ-43DYqYc\"\n",
    "sheet = googleClient.open_by_key(sheet_id)\n",
    "\n",
    "# Select the first worksheet\n",
    "worksheet = sheet.get_worksheet(0)\n",
    "\n",
    "# Get all records from the worksheet\n",
    "merchant_excluded = worksheet.get_all_records()\n",
    "\n",
    "# Convert the records to a BigQuery DataFrame\n",
    "merchant_excluded_df = bpd.DataFrame(merchant_excluded)"
   ]
  },
  {
   "cell_type": "code",
   "execution_count": 9,
   "metadata": {},
   "outputs": [
    {
     "data": {
      "text/html": [
       "Query job 7af78c71-4bbb-4ee0-8d30-f328565ff235 is DONE. 8.2 kB processed. <a target=\"_blank\" href=\"https://console.cloud.google.com/bigquery?project=johanesa-playground-326616&j=bq:us-central1:7af78c71-4bbb-4ee0-8d30-f328565ff235&page=queryresults\">Open Job</a>"
      ],
      "text/plain": [
       "<IPython.core.display.HTML object>"
      ]
     },
     "metadata": {},
     "output_type": "display_data"
    },
    {
     "data": {
      "text/html": [
       "<div>\n",
       "<style scoped>\n",
       "    .dataframe tbody tr th:only-of-type {\n",
       "        vertical-align: middle;\n",
       "    }\n",
       "\n",
       "    .dataframe tbody tr th {\n",
       "        vertical-align: top;\n",
       "    }\n",
       "\n",
       "    .dataframe thead th {\n",
       "        text-align: right;\n",
       "    }\n",
       "</style>\n",
       "<table border=\"1\" class=\"dataframe\">\n",
       "  <thead>\n",
       "    <tr style=\"text-align: right;\">\n",
       "      <th></th>\n",
       "      <th>business_id</th>\n",
       "      <th>card_brand</th>\n",
       "      <th>card_type</th>\n",
       "      <th>issuing_bank_name</th>\n",
       "      <th>currency</th>\n",
       "      <th>installment_count</th>\n",
       "      <th>client_type</th>\n",
       "      <th>merchant_id</th>\n",
       "      <th>mid_label</th>\n",
       "    </tr>\n",
       "  </thead>\n",
       "  <tbody>\n",
       "    <tr>\n",
       "      <th>0</th>\n",
       "      <td>bu-963</td>\n",
       "      <td>JCB</td>\n",
       "      <td>DEBIT</td>\n",
       "      <td>MANDIRI</td>\n",
       "      <td>IDR</td>\n",
       "      <td>3</td>\n",
       "      <td>WEB</td>\n",
       "      <td>merch-def</td>\n",
       "      <td>promo-mid</td>\n",
       "    </tr>\n",
       "    <tr>\n",
       "      <th>1</th>\n",
       "      <td>bu-651</td>\n",
       "      <td>VISA</td>\n",
       "      <td>DEBIT</td>\n",
       "      <td>BNI</td>\n",
       "      <td>IDR</td>\n",
       "      <td>6</td>\n",
       "      <td>API</td>\n",
       "      <td>merch-ghi</td>\n",
       "      <td>promo-mid</td>\n",
       "    </tr>\n",
       "    <tr>\n",
       "      <th>2</th>\n",
       "      <td>bu-972</td>\n",
       "      <td>JCB</td>\n",
       "      <td>DEBIT</td>\n",
       "      <td>MANDIRI</td>\n",
       "      <td>IDR</td>\n",
       "      <td>&lt;NA&gt;</td>\n",
       "      <td>WEB</td>\n",
       "      <td>merch-jkl</td>\n",
       "      <td>promo-mid</td>\n",
       "    </tr>\n",
       "    <tr>\n",
       "      <th>3</th>\n",
       "      <td>bu-318</td>\n",
       "      <td>MASTERCARD</td>\n",
       "      <td>DEBIT</td>\n",
       "      <td>CIMB</td>\n",
       "      <td>IDR</td>\n",
       "      <td>3</td>\n",
       "      <td>WEB</td>\n",
       "      <td>merch-mno</td>\n",
       "      <td>promo-mid</td>\n",
       "    </tr>\n",
       "    <tr>\n",
       "      <th>4</th>\n",
       "      <td>bu-456</td>\n",
       "      <td>VISA</td>\n",
       "      <td>CREDIT</td>\n",
       "      <td>OTHER</td>\n",
       "      <td>IDR</td>\n",
       "      <td>3</td>\n",
       "      <td>WEB</td>\n",
       "      <td>merch-ghi</td>\n",
       "      <td>promo-mid</td>\n",
       "    </tr>\n",
       "  </tbody>\n",
       "</table>\n",
       "<p>5 rows × 9 columns</p>\n",
       "</div>[5 rows x 9 columns in total]"
      ],
      "text/plain": [
       "  business_id  card_brand card_type issuing_bank_name currency  \\\n",
       "0      bu-963         JCB     DEBIT           MANDIRI      IDR   \n",
       "1      bu-651        VISA     DEBIT               BNI      IDR   \n",
       "2      bu-972         JCB     DEBIT           MANDIRI      IDR   \n",
       "3      bu-318  MASTERCARD     DEBIT              CIMB      IDR   \n",
       "4      bu-456        VISA    CREDIT             OTHER      IDR   \n",
       "\n",
       "   installment_count client_type merchant_id  mid_label  \n",
       "0                  3         WEB   merch-def  promo-mid  \n",
       "1                  6         API   merch-ghi  promo-mid  \n",
       "2               <NA>         WEB   merch-jkl  promo-mid  \n",
       "3                  3         WEB   merch-mno  promo-mid  \n",
       "4                  3         WEB   merch-ghi  promo-mid  \n",
       "\n",
       "[5 rows x 9 columns]"
      ]
     },
     "execution_count": 9,
     "metadata": {},
     "output_type": "execute_result"
    }
   ],
   "source": [
    "legacy_charges_df.head()"
   ]
  },
  {
   "cell_type": "markdown",
   "metadata": {},
   "source": [
    "# Monitoring Script"
   ]
  },
  {
   "cell_type": "code",
   "execution_count": null,
   "metadata": {},
   "outputs": [
    {
     "data": {
      "text/html": [
       "Query job 54a7910c-fa65-42f7-a8a5-278dedfee9ca is DONE. 6.6 kB processed. <a target=\"_blank\" href=\"https://console.cloud.google.com/bigquery?project=johanesa-playground-326616&j=bq:us-central1:54a7910c-fa65-42f7-a8a5-278dedfee9ca&page=queryresults\">Open Job</a>"
      ],
      "text/plain": [
       "<IPython.core.display.HTML object>"
      ]
     },
     "metadata": {},
     "output_type": "display_data"
    },
    {
     "data": {
      "text/html": [
       "Query job c1250301-5e88-4f0c-bbd7-ef59836a2feb is DONE. 0 Bytes processed. <a target=\"_blank\" href=\"https://console.cloud.google.com/bigquery?project=johanesa-playground-326616&j=bq:us-central1:c1250301-5e88-4f0c-bbd7-ef59836a2feb&page=queryresults\">Open Job</a>"
      ],
      "text/plain": [
       "<IPython.core.display.HTML object>"
      ]
     },
     "metadata": {},
     "output_type": "display_data"
    },
    {
     "data": {
      "text/html": [
       "Query job 9f67bea8-210a-47e8-ad6d-45f0517745a8 is DONE. 0 Bytes processed. <a target=\"_blank\" href=\"https://console.cloud.google.com/bigquery?project=johanesa-playground-326616&j=bq:us-central1:9f67bea8-210a-47e8-ad6d-45f0517745a8&page=queryresults\">Open Job</a>"
      ],
      "text/plain": [
       "<IPython.core.display.HTML object>"
      ]
     },
     "metadata": {},
     "output_type": "display_data"
    },
    {
     "data": {
      "text/plain": [
       "'temp.merchant_excluded'"
      ]
     },
     "execution_count": 11,
     "metadata": {},
     "output_type": "execute_result"
    }
   ],
   "source": [
    "legacy_charges_df.to_gbq('temp.legacy_charges', if_exists='replace')\n",
    "merchant_send_mid_label_df.to_gbq(\n",
    "    'temp.merchant_send_mid_label', if_exists='replace')\n",
    "merchant_excluded_df.to_gbq('temp.merchant_excluded', if_exists='replace')"
   ]
  },
  {
   "cell_type": "code",
   "execution_count": 12,
   "metadata": {},
   "outputs": [],
   "source": [
    "sql = \"\"\"\n",
    "SELECT\n",
    "    lc.*\n",
    "FROM\n",
    "    `temp.legacy_charges` lc\n",
    "LEFT JOIN\n",
    "    `temp.merchant_send_mid_label` msml ON lc.business_id = msml.business_id\n",
    "LEFT JOIN\n",
    "    `temp.merchant_excluded` me ON lc.business_id = me.business_id\n",
    "WHERE\n",
    "    msml.business_id IS NULL AND me.business_id IS NULL\n",
    "\"\"\"\n",
    "sql_join_df = bpd.read_gbq(sql)"
   ]
  },
  {
   "cell_type": "code",
   "execution_count": 13,
   "metadata": {},
   "outputs": [
    {
     "data": {
      "text/html": [
       "Load job 4b0e39a3-4c1c-4e8c-b128-2f3c235a6f00 is DONE. <a target=\"_blank\" href=\"https://console.cloud.google.com/bigquery?project=johanesa-playground-326616&j=bq:us-central1:4b0e39a3-4c1c-4e8c-b128-2f3c235a6f00&page=queryresults\">Open Job</a>"
      ],
      "text/plain": [
       "<IPython.core.display.HTML object>"
      ]
     },
     "metadata": {},
     "output_type": "display_data"
    },
    {
     "data": {
      "text/html": [
       "Query job 7c00be33-2785-43a1-943f-c3ec354bd712 is DONE. 8.2 kB processed. <a target=\"_blank\" href=\"https://console.cloud.google.com/bigquery?project=johanesa-playground-326616&j=bq:us-central1:7c00be33-2785-43a1-943f-c3ec354bd712&page=queryresults\">Open Job</a>"
      ],
      "text/plain": [
       "<IPython.core.display.HTML object>"
      ]
     },
     "metadata": {},
     "output_type": "display_data"
    },
    {
     "data": {
      "text/html": [
       "<div>\n",
       "<style scoped>\n",
       "    .dataframe tbody tr th:only-of-type {\n",
       "        vertical-align: middle;\n",
       "    }\n",
       "\n",
       "    .dataframe tbody tr th {\n",
       "        vertical-align: top;\n",
       "    }\n",
       "\n",
       "    .dataframe thead th {\n",
       "        text-align: right;\n",
       "    }\n",
       "</style>\n",
       "<table border=\"1\" class=\"dataframe\">\n",
       "  <thead>\n",
       "    <tr style=\"text-align: right;\">\n",
       "      <th></th>\n",
       "      <th>business_id</th>\n",
       "      <th>card_brand</th>\n",
       "      <th>card_type</th>\n",
       "      <th>issuing_bank_name</th>\n",
       "      <th>currency</th>\n",
       "      <th>installment_count</th>\n",
       "      <th>client_type</th>\n",
       "      <th>merchant_id</th>\n",
       "      <th>mid_label</th>\n",
       "    </tr>\n",
       "  </thead>\n",
       "  <tbody>\n",
       "    <tr>\n",
       "      <th>0</th>\n",
       "      <td>bu-154</td>\n",
       "      <td>AMEX</td>\n",
       "      <td>CREDIT</td>\n",
       "      <td>BCA</td>\n",
       "      <td>IDR</td>\n",
       "      <td>3</td>\n",
       "      <td>MOBILE</td>\n",
       "      <td>merch-def</td>\n",
       "      <td>promo-mid</td>\n",
       "    </tr>\n",
       "    <tr>\n",
       "      <th>1</th>\n",
       "      <td>bu-129</td>\n",
       "      <td>AMEX</td>\n",
       "      <td>CREDIT</td>\n",
       "      <td>BCA</td>\n",
       "      <td>IDR</td>\n",
       "      <td>12</td>\n",
       "      <td>MOBILE</td>\n",
       "      <td>merch-ghi</td>\n",
       "      <td>special-offer</td>\n",
       "    </tr>\n",
       "    <tr>\n",
       "      <th>2</th>\n",
       "      <td>bu-134</td>\n",
       "      <td>AMEX</td>\n",
       "      <td>CREDIT</td>\n",
       "      <td>BCA</td>\n",
       "      <td>IDR</td>\n",
       "      <td>3</td>\n",
       "      <td>WEB</td>\n",
       "      <td>merch-jkl</td>\n",
       "      <td>promo-mid</td>\n",
       "    </tr>\n",
       "    <tr>\n",
       "      <th>3</th>\n",
       "      <td>bu-636</td>\n",
       "      <td>AMEX</td>\n",
       "      <td>DEBIT</td>\n",
       "      <td>BNI</td>\n",
       "      <td>IDR</td>\n",
       "      <td>3</td>\n",
       "      <td>MOBILE</td>\n",
       "      <td>merch-jkl</td>\n",
       "      <td>&lt;NA&gt;</td>\n",
       "    </tr>\n",
       "    <tr>\n",
       "      <th>4</th>\n",
       "      <td>bu-104</td>\n",
       "      <td>AMEX</td>\n",
       "      <td>DEBIT</td>\n",
       "      <td>BNI</td>\n",
       "      <td>IDR</td>\n",
       "      <td>6</td>\n",
       "      <td>API</td>\n",
       "      <td>merch-def</td>\n",
       "      <td>special-offer</td>\n",
       "    </tr>\n",
       "  </tbody>\n",
       "</table>\n",
       "<p>5 rows × 9 columns</p>\n",
       "</div>[5 rows x 9 columns in total]"
      ],
      "text/plain": [
       "  business_id card_brand card_type issuing_bank_name currency  \\\n",
       "0      bu-154       AMEX    CREDIT               BCA      IDR   \n",
       "1      bu-129       AMEX    CREDIT               BCA      IDR   \n",
       "2      bu-134       AMEX    CREDIT               BCA      IDR   \n",
       "3      bu-636       AMEX     DEBIT               BNI      IDR   \n",
       "4      bu-104       AMEX     DEBIT               BNI      IDR   \n",
       "\n",
       "   installment_count client_type merchant_id      mid_label  \n",
       "0                  3      MOBILE   merch-def      promo-mid  \n",
       "1                 12      MOBILE   merch-ghi  special-offer  \n",
       "2                  3         WEB   merch-jkl      promo-mid  \n",
       "3                  3      MOBILE   merch-jkl           <NA>  \n",
       "4                  6         API   merch-def  special-offer  \n",
       "\n",
       "[5 rows x 9 columns]"
      ]
     },
     "execution_count": 13,
     "metadata": {},
     "output_type": "execute_result"
    }
   ],
   "source": [
    "sql_join_df.head()"
   ]
  }
 ],
 "metadata": {
  "kernelspec": {
   "display_name": ".venv",
   "language": "python",
   "name": "python3"
  },
  "language_info": {
   "codemirror_mode": {
    "name": "ipython",
    "version": 3
   },
   "file_extension": ".py",
   "mimetype": "text/x-python",
   "name": "python",
   "nbconvert_exporter": "python",
   "pygments_lexer": "ipython3",
   "version": "3.11.9"
  }
 },
 "nbformat": 4,
 "nbformat_minor": 4
}
